{
 "cells": [
  {
   "cell_type": "code",
   "execution_count": 1,
   "metadata": {},
   "outputs": [],
   "source": [
    "from sqlalchemy import create_engine,text\n",
    "import pandas as pd\n",
    "import json,os,re\n",
    "\n",
    "import tiktoken\n",
    "from numpyencoder import NumpyEncoder\n",
    "\n",
    "import string\n",
    "from langchain.text_splitter import RecursiveCharacterTextSplitter\n",
    "\n",
    "\n",
    "\n"
   ]
  },
  {
   "cell_type": "code",
   "execution_count": 2,
   "metadata": {},
   "outputs": [],
   "source": [
    "designation_dict={'chief executive officer': 1,\n",
    "\"founder & managing director\":1,\n",
    " 'chief executive': 1,\n",
    " 'ceo': 1,\n",
    " 'managing partner': 1,\n",
    " 'managing director': 1,\n",
    " 'founder': 1,\n",
    " 'owner': 1,\n",
    " 'chairman': 1,\n",
    " 'director': 1,\n",
    " 'executive director': 1,\n",
    " 'co-founder': 1,\n",
    " 'cofounder': 1,\n",
    " 'co founder': 1,\n",
    " 'group managing director': 1,\n",
    " }\n",
    "\n",
    "\n",
    "\n",
    "def LengthFormat2(data,ignor_list_name):\n",
    "    result={}\n",
    "    \n",
    "    keys=[key for key in data.keys()]\n",
    "    try:\n",
    "        if data[\"name\"].lower()  in ignor_list_name:\n",
    "            return result\n",
    "            \n",
    "    except:\n",
    "        return {}\n",
    "    else:\n",
    "\n",
    "        if \"name\" in keys and \"designation\" in keys:\n",
    "            try:\n",
    "                designation=data[\"designation\"].lower()\n",
    "                for role in designation_dict:\n",
    "                    \n",
    "                    if role in designation:\n",
    "                        if data[\"designation\"] in result:\n",
    "                            \n",
    "                            result[data[\"designation\"].lower()].add(data[\"name\"].lower())\n",
    "                        else:\n",
    "                            result[data[\"designation\"].lower()]={data[\"name\"].lower()}\n",
    "            except:pass\n",
    "        if \"name\" in keys and \"title\" in keys:\n",
    "            try:\n",
    "                \n",
    "                designation=data[\"title\"].lower()\n",
    "                for role in designation_dict:\n",
    "                    if role in designation:\n",
    "                        if data[\"title\"] in result:\n",
    "                            result[data[\"title\"].lower()].add(data[\"name\"])\n",
    "                        else:\n",
    "                            result[data[\"title\"].lower()]={data[\"name\"]}\n",
    "            except:pass\n",
    "    return result\n",
    "\n",
    "\n",
    "\n",
    "def ExactDesignationMatch(data,ignor_list_name,result):\n",
    "    for designation , name in data.items():\n",
    "        \n",
    "        try:\n",
    "            name=name.lower()\n",
    "        \n",
    "            designation=designation.lower()\n",
    "            designation_dict[designation]\n",
    "            if name  in ignor_list_name:\n",
    "                pass\n",
    "            else:\n",
    "                \n",
    "                if designation in result:\n",
    "                    result[designation].add(name)\n",
    "                else:\n",
    "                    result[designation]={name}\n",
    "                \n",
    "        except:\n",
    "            pass\n",
    "    for name,designation in data.items():\n",
    "        \n",
    "        try:\n",
    "            name=name.lower()\n",
    "        \n",
    "            designation=designation.lower()\n",
    "            designation_dict[designation]\n",
    "            if name  in ignor_list_name:\n",
    "                pass\n",
    "            else:\n",
    "                \n",
    "                if designation in result:\n",
    "                    result[designation].add(name)\n",
    "                else:\n",
    "                    result[designation]={name}\n",
    "        except:\n",
    "            pass\n",
    "    return result\n",
    "\n",
    "def PartialCheckDesignation(data,ignor_list_name,result):\n",
    "    ## IN checking\n",
    "    for name , designation in data.items():\n",
    "        try:\n",
    "            name=name.lower()\n",
    "            designation=designation.lower()\n",
    "            for role in designation_dict:\n",
    "                if role in designation:\n",
    "                    if name  in ignor_list_name:\n",
    "                        pass\n",
    "                    else:\n",
    "\n",
    "                        if designation in result:\n",
    "                            \n",
    "                            result[designation].add(name)\n",
    "                        else:\n",
    "                            result[designation]={name}\n",
    "        except:\n",
    "            pass\n",
    "                    \n",
    "    for designation , name in data.items():\n",
    "        try:\n",
    "            name=name.lower()\n",
    "            designation=designation.lower()\n",
    "            for role in designation_dict:\n",
    "                if role in designation:\n",
    "                    if name  in ignor_list_name:\n",
    "                        pass\n",
    "                    else:\n",
    "                        if designation in result:\n",
    "                            result[designation].add(name)\n",
    "                        else:\n",
    "                            result[designation]={name}\n",
    "        except:\n",
    "            pass\n",
    "    return result\n",
    "    \n",
    "    \n",
    "def Extract(data):\n",
    "    ignor_list_name=[\"name\",\"title\",\"example\",\"unknown\",\"not specified\",\"n/a\",\"ceo\",\"founder\",\"owner\",\"president\",\"partner\",\"director\",\"managing\",\" director\",\"cheif\",\"officer\",\"unspecified\",\"not mentioned\",\"md/ceo\",\"designation\",\"chairman\",\"not provided\",\"value\",\"mission\",\"vision\",\"executive\",\"m.d\"]\n",
    "    \n",
    "    result={}\n",
    "    if len(data)==2:\n",
    "        \n",
    "        keys=[key.lower() for key in data.keys() if key!=None]\n",
    " \n",
    "        if \"name\" in keys and (\"designation\" in keys or \"title\" in keys) :\n",
    "            result=LengthFormat2(data,ignor_list_name)\n",
    "      \n",
    "    \n",
    "    \n",
    "    result=ExactDesignationMatch(data,ignor_list_name,result)\n",
    "    result=PartialCheckDesignation(data,ignor_list_name,result)\n",
    "    \n",
    "    for people_designation,names_list in result.items():\n",
    "        key1=people_designation.lower()\n",
    "        pople_name_update=[]\n",
    "        for role in designation_dict:\n",
    "            if role in key1:\n",
    "                for ele in names_list:\n",
    "                    if ele in ignor_list_name or role in ele:\n",
    "                        pass\n",
    "                    else:\n",
    "                        flag=True\n",
    "                        for item in ignor_list_name:\n",
    "                            if item in ele:\n",
    "                                flag=False\n",
    "                                break\n",
    "                        if flag:\n",
    "                            if ele not in pople_name_update and (ele!=\"in\" or ele!=\"the\" or ele!=\"not\" or ele!=\"of\"):\n",
    "                                pople_name_update.append(ele)\n",
    "            result[people_designation]=pople_name_update\n",
    "    return result"
   ]
  },
  {
   "cell_type": "code",
   "execution_count": 3,
   "metadata": {},
   "outputs": [],
   "source": [
    "# Set up the connection parameters\n",
    "db_username = 'postgres'\n",
    "db_password = 'postgres321123'\n",
    "db_host = 'scrape.cpf8ws5bn2fs.ap-south-1.rds.amazonaws.com'\n",
    "db_port = '5432'\n",
    "db_name = 'tempuse'\n",
    "schema_name = 'new_ceo'\n",
    "\n",
    "# Create the database engine with the specified schema\n",
    "engine = create_engine(f'postgresql://{db_username}:{db_password}@{db_host}:{db_port}/{db_name}?options=-csearch_path%3D{schema_name}')"
   ]
  },
  {
   "cell_type": "code",
   "execution_count": 4,
   "metadata": {},
   "outputs": [],
   "source": [
    "RawResultChatGpt={}\n",
    "ErrorParent={}"
   ]
  },
  {
   "cell_type": "code",
   "execution_count": 5,
   "metadata": {},
   "outputs": [],
   "source": [
    "with engine.connect() as conn:\n",
    "    result=conn.execute(text(\"select parent ,childlink,raw_chatgpt_result from raw_ceo_data\"))\n",
    "    for row in result:\n",
    "        child_data=json.loads(row[2])\n",
    "        if row[0] in RawResultChatGpt:\n",
    "            try:\n",
    "                raw_result=json.loads(child_data[\"raw-result\"])\n",
    "                RawResultChatGpt[row[0]]={**RawResultChatGpt[row[0]],**{row[1]:raw_result}}\n",
    "            except:\n",
    "                pass\n",
    "        else:\n",
    "            try:\n",
    "                raw_result=json.loads(child_data[\"raw-result\"])\n",
    "                RawResultChatGpt[row[0]]={row[1]:raw_result}\n",
    "            except :\n",
    "                pass\n",
    "                \n",
    "        # print(row[0],json.loads(row[2]))"
   ]
  },
  {
   "cell_type": "code",
   "execution_count": 6,
   "metadata": {},
   "outputs": [
    {
     "data": {
      "text/plain": [
       "12397"
      ]
     },
     "execution_count": 6,
     "metadata": {},
     "output_type": "execute_result"
    }
   ],
   "source": [
    "len(RawResultChatGpt)"
   ]
  },
  {
   "cell_type": "code",
   "execution_count": 7,
   "metadata": {},
   "outputs": [
    {
     "data": {
      "text/plain": [
       "151"
      ]
     },
     "execution_count": 7,
     "metadata": {},
     "output_type": "execute_result"
    }
   ],
   "source": [
    "with engine.connect() as conn:\n",
    "    result=conn.execute(text(\"select parent ,childlink,raw_chatgpt_result from priority_website\"))\n",
    "    for row in result:\n",
    "        child_data=json.loads(row[2])\n",
    "        if row[0] in RawResultChatGpt:\n",
    "            try:\n",
    "                raw_result=json.loads(child_data[\"raw-result\"])\n",
    "                RawResultChatGpt[row[0]]={**RawResultChatGpt[row[0]],**{row[1]:raw_result}}\n",
    "            except:\n",
    "                pass\n",
    "        else:\n",
    "            try:\n",
    "                raw_result=json.loads(child_data[\"raw-result\"])\n",
    "                RawResultChatGpt[row[0]]={row[1]:raw_result}\n",
    "            except :\n",
    "                ErrorParent[row[0]]=1\n",
    "                \n",
    "        # print(row[0],json.loads(row[2]))\n",
    "len(ErrorParent)"
   ]
  },
  {
   "cell_type": "markdown",
   "metadata": {},
   "source": [
    "check not Found "
   ]
  },
  {
   "cell_type": "code",
   "execution_count": 8,
   "metadata": {},
   "outputs": [
    {
     "data": {
      "text/plain": [
       "36"
      ]
     },
     "execution_count": 8,
     "metadata": {},
     "output_type": "execute_result"
    }
   ],
   "source": [
    "NotFound={}\n",
    "with engine.connect() as conn:\n",
    "    result=conn.execute(text(\"select parent from priority_website\"))\n",
    "    for row in result:\n",
    "        try:\n",
    "            RawResultChatGpt[row[0]]\n",
    "        except:\n",
    "            NotFound[row[0]]=1\n",
    "len(NotFound)\n",
    "    "
   ]
  },
  {
   "cell_type": "code",
   "execution_count": 9,
   "metadata": {},
   "outputs": [],
   "source": [
    "websiteChildlinkCeoName={}"
   ]
  },
  {
   "cell_type": "code",
   "execution_count": 10,
   "metadata": {},
   "outputs": [],
   "source": [
    "def ComputeNameDesignationMap(nameDesignationmap,temp_parse,link)->dict:\n",
    "    for designation,list_name in temp_parse.items():\n",
    "        for people in list_name:\n",
    "            if people in nameDesignationmap:\n",
    "                nameDesignationmap[people][\"designation\"].add(designation)\n",
    "                nameDesignationmap[people][\"childlink\"].add(link)\n",
    "            else:\n",
    "                nameDesignationmap[people]={\"designation\":{designation},\"childlink\":{link}}\n",
    "    return nameDesignationmap"
   ]
  },
  {
   "cell_type": "code",
   "execution_count": 11,
   "metadata": {},
   "outputs": [
    {
     "data": {
      "text/plain": [
       "(14186, 14186)"
      ]
     },
     "execution_count": 11,
     "metadata": {},
     "output_type": "execute_result"
    }
   ],
   "source": [
    "i=0\n",
    "for parent ,childMap in RawResultChatGpt.items():\n",
    "    # if parent!=\"20microns.com\":\n",
    "    #     continue\n",
    "    \n",
    "    nameDesignationmap={}\n",
    "    for link ,value in childMap.items():            \n",
    "        if type(value)==dict:\n",
    "            temp_parse=Extract(value)\n",
    "            \n",
    "            temp=ComputeNameDesignationMap(nameDesignationmap,temp_parse,link)\n",
    "            nameDesignationmap={**nameDesignationmap,**temp}\n",
    "\n",
    "           \n",
    "        elif type(value)==list:\n",
    "            for each_batch in value:\n",
    "                temp_parse=Extract(each_batch)\n",
    "                temp=ComputeNameDesignationMap(nameDesignationmap,temp_parse,link)\n",
    "                nameDesignationmap={**nameDesignationmap,**temp}\n",
    "\n",
    "   \n",
    "    websiteChildlinkCeoName[parent]=nameDesignationmap\n",
    "    i+=1\n",
    "    \n",
    "i,len(websiteChildlinkCeoName)"
   ]
  },
  {
   "cell_type": "code",
   "execution_count": null,
   "metadata": {},
   "outputs": [],
   "source": []
  },
  {
   "cell_type": "code",
   "execution_count": 12,
   "metadata": {},
   "outputs": [],
   "source": [
    "update_websiteChildlinkCeoName={\n",
    "    \"parent\":[],\n",
    "    \"people_name\":[],\n",
    "    \"designation\":[],\n",
    "    \"childlink\":[]\n",
    "}"
   ]
  },
  {
   "cell_type": "code",
   "execution_count": 13,
   "metadata": {},
   "outputs": [
    {
     "data": {
      "text/plain": [
       "4"
      ]
     },
     "execution_count": 13,
     "metadata": {},
     "output_type": "execute_result"
    }
   ],
   "source": [
    "for parent,ceo_data in websiteChildlinkCeoName.items():                    \n",
    "    for name ,ceo_data in ceo_data.items():\n",
    "        if name:\n",
    "            update_websiteChildlinkCeoName[\"designation\"].append(\",\".join(ceo_data[\"designation\"]))\n",
    "            update_websiteChildlinkCeoName[\"childlink\"].append(\",\".join(ceo_data[\"childlink\"]))\n",
    "            update_websiteChildlinkCeoName[\"people_name\"].append(name)\n",
    "            update_websiteChildlinkCeoName[\"parent\"].append(parent)\n",
    "len(update_websiteChildlinkCeoName)"
   ]
  },
  {
   "cell_type": "code",
   "execution_count": 14,
   "metadata": {},
   "outputs": [
    {
     "data": {
      "text/plain": [
       "(42083, 4)"
      ]
     },
     "execution_count": 14,
     "metadata": {},
     "output_type": "execute_result"
    }
   ],
   "source": [
    "# pd.DataFrame(update_websiteChildlinkCeoName).to_sql(\"priority_website_result\",con=engine,index=False,if_exists=\"replace\")\n",
    "df=pd.DataFrame(update_websiteChildlinkCeoName)\n",
    "df.shape\n"
   ]
  },
  {
   "cell_type": "code",
   "execution_count": null,
   "metadata": {},
   "outputs": [],
   "source": []
  },
  {
   "cell_type": "code",
   "execution_count": 15,
   "metadata": {},
   "outputs": [
    {
     "data": {
      "text/html": [
       "<div>\n",
       "<style scoped>\n",
       "    .dataframe tbody tr th:only-of-type {\n",
       "        vertical-align: middle;\n",
       "    }\n",
       "\n",
       "    .dataframe tbody tr th {\n",
       "        vertical-align: top;\n",
       "    }\n",
       "\n",
       "    .dataframe thead th {\n",
       "        text-align: right;\n",
       "    }\n",
       "</style>\n",
       "<table border=\"1\" class=\"dataframe\">\n",
       "  <thead>\n",
       "    <tr style=\"text-align: right;\">\n",
       "      <th></th>\n",
       "      <th>parent</th>\n",
       "      <th>people_name</th>\n",
       "      <th>designation</th>\n",
       "      <th>childlink</th>\n",
       "    </tr>\n",
       "  </thead>\n",
       "  <tbody>\n",
       "    <tr>\n",
       "      <th>21</th>\n",
       "      <td>20microns.com</td>\n",
       "      <td>late chandresh s. parikh</td>\n",
       "      <td>founder chairman</td>\n",
       "      <td>20microns.com/founder-chairman</td>\n",
       "    </tr>\n",
       "    <tr>\n",
       "      <th>22</th>\n",
       "      <td>20microns.com</td>\n",
       "      <td>rajesh c. parikh</td>\n",
       "      <td>chairman &amp; managing director</td>\n",
       "      <td>20microns.com/leadership-team</td>\n",
       "    </tr>\n",
       "    <tr>\n",
       "      <th>23</th>\n",
       "      <td>20microns.com</td>\n",
       "      <td>atil c. parikh</td>\n",
       "      <td>ceo &amp; managing director</td>\n",
       "      <td>20microns.com/leadership-team</td>\n",
       "    </tr>\n",
       "    <tr>\n",
       "      <th>24</th>\n",
       "      <td>20microns.com</td>\n",
       "      <td>sejal parikh</td>\n",
       "      <td>non-executive woman director</td>\n",
       "      <td>20microns.com/leadership-team</td>\n",
       "    </tr>\n",
       "    <tr>\n",
       "      <th>25</th>\n",
       "      <td>20microns.com</td>\n",
       "      <td>atul patel</td>\n",
       "      <td>independent director</td>\n",
       "      <td>20microns.com/leadership-team</td>\n",
       "    </tr>\n",
       "    <tr>\n",
       "      <th>26</th>\n",
       "      <td>20microns.com</td>\n",
       "      <td>ramkisan devidayal</td>\n",
       "      <td>independent director</td>\n",
       "      <td>20microns.com/leadership-team</td>\n",
       "    </tr>\n",
       "    <tr>\n",
       "      <th>27</th>\n",
       "      <td>20microns.com</td>\n",
       "      <td>jaideep verma</td>\n",
       "      <td>independent director</td>\n",
       "      <td>20microns.com/leadership-team</td>\n",
       "    </tr>\n",
       "    <tr>\n",
       "      <th>28</th>\n",
       "      <td>20microns.com</td>\n",
       "      <td>ajay ranka</td>\n",
       "      <td>independent director</td>\n",
       "      <td>20microns.com/leadership-team</td>\n",
       "    </tr>\n",
       "  </tbody>\n",
       "</table>\n",
       "</div>"
      ],
      "text/plain": [
       "           parent               people_name                   designation  \\\n",
       "21  20microns.com  late chandresh s. parikh              founder chairman   \n",
       "22  20microns.com          rajesh c. parikh  chairman & managing director   \n",
       "23  20microns.com            atil c. parikh       ceo & managing director   \n",
       "24  20microns.com              sejal parikh  non-executive woman director   \n",
       "25  20microns.com                atul patel          independent director   \n",
       "26  20microns.com        ramkisan devidayal          independent director   \n",
       "27  20microns.com             jaideep verma          independent director   \n",
       "28  20microns.com                ajay ranka          independent director   \n",
       "\n",
       "                         childlink  \n",
       "21  20microns.com/founder-chairman  \n",
       "22   20microns.com/leadership-team  \n",
       "23   20microns.com/leadership-team  \n",
       "24   20microns.com/leadership-team  \n",
       "25   20microns.com/leadership-team  \n",
       "26   20microns.com/leadership-team  \n",
       "27   20microns.com/leadership-team  \n",
       "28   20microns.com/leadership-team  "
      ]
     },
     "execution_count": 15,
     "metadata": {},
     "output_type": "execute_result"
    }
   ],
   "source": [
    "# RawResultChatGpt[\"galaxystamping.com\"]\n",
    "df[df[\"parent\"]=='20microns.com'].head(20)\n",
    "# ErrorParent[\"signatureglobal.in\"]\n",
    "# websiteChildlinkCeoName[\"signatureglobal.in\"]"
   ]
  },
  {
   "cell_type": "code",
   "execution_count": 16,
   "metadata": {},
   "outputs": [
    {
     "data": {
      "text/plain": [
       "count         42083\n",
       "unique        10617\n",
       "top       ieema.org\n",
       "freq             71\n",
       "Name: parent, dtype: object"
      ]
     },
     "execution_count": 16,
     "metadata": {},
     "output_type": "execute_result"
    }
   ],
   "source": [
    "df[\"parent\"].describe()"
   ]
  },
  {
   "cell_type": "code",
   "execution_count": 17,
   "metadata": {},
   "outputs": [
    {
     "data": {
      "text/html": [
       "<div>\n",
       "<style scoped>\n",
       "    .dataframe tbody tr th:only-of-type {\n",
       "        vertical-align: middle;\n",
       "    }\n",
       "\n",
       "    .dataframe tbody tr th {\n",
       "        vertical-align: top;\n",
       "    }\n",
       "\n",
       "    .dataframe thead th {\n",
       "        text-align: right;\n",
       "    }\n",
       "</style>\n",
       "<table border=\"1\" class=\"dataframe\">\n",
       "  <thead>\n",
       "    <tr style=\"text-align: right;\">\n",
       "      <th></th>\n",
       "      <th>parent</th>\n",
       "      <th>people_name</th>\n",
       "      <th>designation</th>\n",
       "      <th>childlink</th>\n",
       "    </tr>\n",
       "  </thead>\n",
       "  <tbody>\n",
       "    <tr>\n",
       "      <th>35406</th>\n",
       "      <td>galaxystamping.com</td>\n",
       "      <td>chintan d sitapara</td>\n",
       "      <td>founder &amp; managing director</td>\n",
       "      <td>galaxystamping.com/?tag=management</td>\n",
       "    </tr>\n",
       "    <tr>\n",
       "      <th>35407</th>\n",
       "      <td>galaxystamping.com</td>\n",
       "      <td>dharmshibhai sitapara</td>\n",
       "      <td>chairman</td>\n",
       "      <td>galaxystamping.com/?tag=management</td>\n",
       "    </tr>\n",
       "    <tr>\n",
       "      <th>35408</th>\n",
       "      <td>galaxystamping.com</td>\n",
       "      <td>vishwadeep bose</td>\n",
       "      <td>executive director</td>\n",
       "      <td>galaxystamping.com/?tag=management</td>\n",
       "    </tr>\n",
       "  </tbody>\n",
       "</table>\n",
       "</div>"
      ],
      "text/plain": [
       "                   parent            people_name                  designation  \\\n",
       "35406  galaxystamping.com     chintan d sitapara  founder & managing director   \n",
       "35407  galaxystamping.com  dharmshibhai sitapara                     chairman   \n",
       "35408  galaxystamping.com        vishwadeep bose           executive director   \n",
       "\n",
       "                                childlink  \n",
       "35406  galaxystamping.com/?tag=management  \n",
       "35407  galaxystamping.com/?tag=management  \n",
       "35408  galaxystamping.com/?tag=management  "
      ]
     },
     "execution_count": 17,
     "metadata": {},
     "output_type": "execute_result"
    }
   ],
   "source": [
    "df[df[\"parent\"]=='galaxystamping.com']"
   ]
  },
  {
   "cell_type": "code",
   "execution_count": 18,
   "metadata": {},
   "outputs": [
    {
     "data": {
      "text/plain": [
       "83"
      ]
     },
     "execution_count": 18,
     "metadata": {},
     "output_type": "execute_result"
    }
   ],
   "source": [
    "df.to_sql(\"Ceo_Data_2\",con=engine,index=False,if_exists='replace')"
   ]
  },
  {
   "cell_type": "code",
   "execution_count": 19,
   "metadata": {},
   "outputs": [],
   "source": [
    "# json_records = df.to_json(orient='records')\n",
    "# json_records=json.loads(json_records)"
   ]
  },
  {
   "cell_type": "code",
   "execution_count": 20,
   "metadata": {},
   "outputs": [],
   "source": [
    "# type(json_records)"
   ]
  },
  {
   "cell_type": "code",
   "execution_count": 21,
   "metadata": {},
   "outputs": [],
   "source": [
    "# len(json_records)"
   ]
  },
  {
   "cell_type": "code",
   "execution_count": 22,
   "metadata": {},
   "outputs": [],
   "source": [
    "# from MongoConnection import establish_mongo_connection\n",
    "# client=establish_mongo_connection()\n",
    "\n",
    "# client=client[\"ceo\"][\"PreFinalCeoData\"]\n",
    "# client.insert_many(json_records)\n"
   ]
  },
  {
   "cell_type": "code",
   "execution_count": null,
   "metadata": {},
   "outputs": [],
   "source": []
  },
  {
   "cell_type": "markdown",
   "metadata": {},
   "source": [
    "<h1> End "
   ]
  },
  {
   "cell_type": "code",
   "execution_count": 23,
   "metadata": {},
   "outputs": [],
   "source": [
    "# leadershipmap=leadershipmap={\"leader\": 1, \"team\": 1, \"management\": 1, \"executive\": 1, \"member\": 1, \"staff\": 1, \"about\": 1, \"employee\": 1, \"people\": 1, \"crew\": 1, \"board\": 1, \"director\": 1, \"partner\": 1, \"governance\": 1, \"corporate-governance\": 1, \"leadership\": 1, \"meet-the-team\": 1, \"company\": 1, \"profile\": 1, \"bios\": 1, \"our\": 1, \"vision\": 1, \"ceo's\": 1, \"directors\": 1, \"corporate\": 1, \"mission\": 1, \"meet\": 1, \"principle\": 1, \"ceo\": 1, \"founder\": 1, \"biography\": 1, \"succession\": 1, \"strategies\": 1, \"approach\": 1, \"excellence\": 1, \"talent\": 1, \"culture\": 1, \"strategy\": 1, \"who\": 1, \"committee\": 1, \"success\": 1, \"growth\": 1, \"mentorship\": 1, \"inspiration\": 1, \"transformation\": 1, \"accountability\": 1, \"diversity\": 1, \"inclusion\": 1, \"adaptability\": 1, \"resilience\": 1, \"trust\": 1, \"collaboration\": 1}"
   ]
  },
  {
   "cell_type": "code",
   "execution_count": 24,
   "metadata": {},
   "outputs": [],
   "source": [
    "# data=json.load(open(\"final_ceo_raw_data.json\",\"r\"))"
   ]
  },
  {
   "cell_type": "code",
   "execution_count": 25,
   "metadata": {},
   "outputs": [],
   "source": [
    "# main_df=pd.read_csv(\"../../../Leadership_51k.csv\")\n",
    "# main_df.head()"
   ]
  },
  {
   "cell_type": "code",
   "execution_count": 26,
   "metadata": {},
   "outputs": [],
   "source": [
    "# all_website={web:1 for web in main_df[\"website\"]}\n",
    "# len(all_website)"
   ]
  },
  {
   "cell_type": "code",
   "execution_count": 27,
   "metadata": {},
   "outputs": [],
   "source": [
    "# df=pd.read_excel(\"../../../TN Shortlist - Alternate Data.xlsx\")\n",
    "# df.head()"
   ]
  },
  {
   "cell_type": "code",
   "execution_count": 28,
   "metadata": {},
   "outputs": [],
   "source": [
    "# len({website:1 for website in df[\"website\"]})"
   ]
  },
  {
   "cell_type": "code",
   "execution_count": 29,
   "metadata": {},
   "outputs": [],
   "source": [
    "# priority_website={}\n",
    "# notfound={}\n",
    "# for website in df[\"website\"]:\n",
    "#     try:\n",
    "#         priority_website[website]\n",
    "#     except:\n",
    "#         try:\n",
    "#             priority_website[website]=data[website]\n",
    "         \n",
    "#         except:\n",
    "#             notfound[website]=1\n",
    "# len(priority_website),len(notfound)"
   ]
  },
  {
   "cell_type": "markdown",
   "metadata": {},
   "source": [
    "total website = 3720 ,\n",
    "after scraping =2598 (useful) , fail ->1122 \n",
    "result --> 1319"
   ]
  },
  {
   "cell_type": "code",
   "execution_count": 30,
   "metadata": {},
   "outputs": [],
   "source": [
    "# data[\"balasorealloys.com\"]"
   ]
  },
  {
   "cell_type": "code",
   "execution_count": 31,
   "metadata": {},
   "outputs": [],
   "source": [
    "# pd.DataFrame({\"website\":notfound.keys()}).head(30)"
   ]
  },
  {
   "cell_type": "code",
   "execution_count": 32,
   "metadata": {},
   "outputs": [],
   "source": [
    "\n",
    "# temp_batch={}\n",
    "# i=0\n",
    "# batch_name=0\n",
    "# for parent,value in priority_website.items():\n",
    "#     if i!=0 and i%1000==0:\n",
    "#         json.dump(temp_batch,open(f\"Batches2/{batch_name}.json\",\"w\"),cls=NumpyEncoder,separators=(', ',': '))\n",
    "#         print(i%1000)\n",
    "#         batch_name+=1\n",
    "#         temp_batch={}\n",
    "#         i=0\n",
    "#     temp_batch[parent]=value\n",
    "#     i+=1"
   ]
  }
 ],
 "metadata": {
  "kernelspec": {
   "display_name": "Python 3",
   "language": "python",
   "name": "python3"
  },
  "language_info": {
   "codemirror_mode": {
    "name": "ipython",
    "version": 3
   },
   "file_extension": ".py",
   "mimetype": "text/x-python",
   "name": "python",
   "nbconvert_exporter": "python",
   "pygments_lexer": "ipython3",
   "version": "3.11.5"
  },
  "orig_nbformat": 4
 },
 "nbformat": 4,
 "nbformat_minor": 2
}
